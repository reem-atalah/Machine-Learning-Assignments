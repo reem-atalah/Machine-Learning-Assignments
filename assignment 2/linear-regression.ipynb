{
  "cells": [
    {
      "cell_type": "markdown",
      "metadata": {
        "id": "SqZZV4Q5SQo5"
      },
      "source": [
        "# Linear Regression\n",
        "\n",
        "In this notebook, we will learn how to apply Linear regression for predicting the heating load requirements (Y1) of buildings as a function of building parameters (Xs).\n",
        "\n",
        "The attached dataset is taken from the [UC Irvine Machine Learning Repository](https://archive.ics.uci.edu/ml/datasets/Energy+efficiency).\n",
        "\n",
        "To run this code, you will need the following python packages:\n",
        "* numpy\n",
        "* pandas\n",
        "* openpyxl\n",
        "* scikit-learn"
      ]
    },
    {
      "cell_type": "code",
      "execution_count": 1,
      "metadata": {
        "id": "5mXDFoktSQpA"
      },
      "outputs": [],
      "source": [
        "import numpy as np\n",
        "import pandas as pd"
      ]
    },
    {
      "cell_type": "code",
      "execution_count": 2,
      "metadata": {
        "id": "0DbeXswVSQpD"
      },
      "outputs": [],
      "source": [
        "# !pip install openpyxl"
      ]
    },
    {
      "cell_type": "code",
      "execution_count": 4,
      "metadata": {
        "id": "hRDD-C8FSQpE"
      },
      "outputs": [],
      "source": [
        "# First, we load the dataset using pandas\n",
        "df = pd.read_excel(\"Energy_Efficiency.xlsx\", engine = 'openpyxl')\n",
        "# Remove any unnamed columns (might occur due to difference in pandas readers)\n",
        "df = df.loc[:, ~df.columns.str.contains('^Unnamed')]\n",
        "# Remove any row with NaNs\n",
        "df = df.dropna(how='all')\n",
        "# Drop Y2 (as we only consider Y1 for regression)\n",
        "df = df.drop('Y2', axis=1)"
      ]
    },
    {
      "cell_type": "code",
      "execution_count": 5,
      "metadata": {
        "id": "QF5b-NHQSQpF"
      },
      "outputs": [],
      "source": [
        "# next, we will split the dataframe into a training and testing splits with a 70% / 30% ratio\n",
        "from sklearn.model_selection import train_test_split\n",
        "\n",
        "df_train, df_test = train_test_split(df, test_size=0.3, random_state=42) # Random is fixed for reproducability"
      ]
    },
    {
      "cell_type": "code",
      "execution_count": 6,
      "metadata": {
        "colab": {
          "base_uri": "https://localhost:8080/",
          "height": 423
        },
        "id": "5nBU9P1iSQpF",
        "outputId": "848c941c-077e-4e9b-f54a-9eff02ddab7d"
      },
      "outputs": [
        {
          "data": {
            "text/html": [
              "\n",
              "  <div id=\"df-ea3b5c80-719a-4c0c-91b1-9b1c172af8d8\">\n",
              "    <div class=\"colab-df-container\">\n",
              "      <div>\n",
              "<style scoped>\n",
              "    .dataframe tbody tr th:only-of-type {\n",
              "        vertical-align: middle;\n",
              "    }\n",
              "\n",
              "    .dataframe tbody tr th {\n",
              "        vertical-align: top;\n",
              "    }\n",
              "\n",
              "    .dataframe thead th {\n",
              "        text-align: right;\n",
              "    }\n",
              "</style>\n",
              "<table border=\"1\" class=\"dataframe\">\n",
              "  <thead>\n",
              "    <tr style=\"text-align: right;\">\n",
              "      <th></th>\n",
              "      <th>X1</th>\n",
              "      <th>X2</th>\n",
              "      <th>X3</th>\n",
              "      <th>X4</th>\n",
              "      <th>X5</th>\n",
              "      <th>X6</th>\n",
              "      <th>X7</th>\n",
              "      <th>X8</th>\n",
              "      <th>Y1</th>\n",
              "    </tr>\n",
              "  </thead>\n",
              "  <tbody>\n",
              "    <tr>\n",
              "      <th>334</th>\n",
              "      <td>0.62</td>\n",
              "      <td>808.5</td>\n",
              "      <td>367.5</td>\n",
              "      <td>220.50</td>\n",
              "      <td>3.5</td>\n",
              "      <td>4</td>\n",
              "      <td>0.25</td>\n",
              "      <td>1</td>\n",
              "      <td>15.08</td>\n",
              "    </tr>\n",
              "    <tr>\n",
              "      <th>139</th>\n",
              "      <td>0.64</td>\n",
              "      <td>784.0</td>\n",
              "      <td>343.0</td>\n",
              "      <td>220.50</td>\n",
              "      <td>3.5</td>\n",
              "      <td>5</td>\n",
              "      <td>0.10</td>\n",
              "      <td>2</td>\n",
              "      <td>15.19</td>\n",
              "    </tr>\n",
              "    <tr>\n",
              "      <th>485</th>\n",
              "      <td>0.90</td>\n",
              "      <td>563.5</td>\n",
              "      <td>318.5</td>\n",
              "      <td>122.50</td>\n",
              "      <td>7.0</td>\n",
              "      <td>3</td>\n",
              "      <td>0.25</td>\n",
              "      <td>5</td>\n",
              "      <td>32.31</td>\n",
              "    </tr>\n",
              "    <tr>\n",
              "      <th>547</th>\n",
              "      <td>0.79</td>\n",
              "      <td>637.0</td>\n",
              "      <td>343.0</td>\n",
              "      <td>147.00</td>\n",
              "      <td>7.0</td>\n",
              "      <td>5</td>\n",
              "      <td>0.40</td>\n",
              "      <td>1</td>\n",
              "      <td>41.67</td>\n",
              "    </tr>\n",
              "    <tr>\n",
              "      <th>18</th>\n",
              "      <td>0.79</td>\n",
              "      <td>637.0</td>\n",
              "      <td>343.0</td>\n",
              "      <td>147.00</td>\n",
              "      <td>7.0</td>\n",
              "      <td>4</td>\n",
              "      <td>0.00</td>\n",
              "      <td>0</td>\n",
              "      <td>29.63</td>\n",
              "    </tr>\n",
              "    <tr>\n",
              "      <th>...</th>\n",
              "      <td>...</td>\n",
              "      <td>...</td>\n",
              "      <td>...</td>\n",
              "      <td>...</td>\n",
              "      <td>...</td>\n",
              "      <td>...</td>\n",
              "      <td>...</td>\n",
              "      <td>...</td>\n",
              "      <td>...</td>\n",
              "    </tr>\n",
              "    <tr>\n",
              "      <th>71</th>\n",
              "      <td>0.76</td>\n",
              "      <td>661.5</td>\n",
              "      <td>416.5</td>\n",
              "      <td>122.50</td>\n",
              "      <td>7.0</td>\n",
              "      <td>5</td>\n",
              "      <td>0.10</td>\n",
              "      <td>1</td>\n",
              "      <td>32.21</td>\n",
              "    </tr>\n",
              "    <tr>\n",
              "      <th>106</th>\n",
              "      <td>0.86</td>\n",
              "      <td>588.0</td>\n",
              "      <td>294.0</td>\n",
              "      <td>147.00</td>\n",
              "      <td>7.0</td>\n",
              "      <td>4</td>\n",
              "      <td>0.10</td>\n",
              "      <td>2</td>\n",
              "      <td>26.33</td>\n",
              "    </tr>\n",
              "    <tr>\n",
              "      <th>270</th>\n",
              "      <td>0.71</td>\n",
              "      <td>710.5</td>\n",
              "      <td>269.5</td>\n",
              "      <td>220.50</td>\n",
              "      <td>3.5</td>\n",
              "      <td>4</td>\n",
              "      <td>0.10</td>\n",
              "      <td>5</td>\n",
              "      <td>10.67</td>\n",
              "    </tr>\n",
              "    <tr>\n",
              "      <th>435</th>\n",
              "      <td>0.98</td>\n",
              "      <td>514.5</td>\n",
              "      <td>294.0</td>\n",
              "      <td>110.25</td>\n",
              "      <td>7.0</td>\n",
              "      <td>5</td>\n",
              "      <td>0.25</td>\n",
              "      <td>4</td>\n",
              "      <td>28.62</td>\n",
              "    </tr>\n",
              "    <tr>\n",
              "      <th>102</th>\n",
              "      <td>0.90</td>\n",
              "      <td>563.5</td>\n",
              "      <td>318.5</td>\n",
              "      <td>122.50</td>\n",
              "      <td>7.0</td>\n",
              "      <td>4</td>\n",
              "      <td>0.10</td>\n",
              "      <td>2</td>\n",
              "      <td>28.83</td>\n",
              "    </tr>\n",
              "  </tbody>\n",
              "</table>\n",
              "<p>537 rows × 9 columns</p>\n",
              "</div>\n",
              "      <button class=\"colab-df-convert\" onclick=\"convertToInteractive('df-ea3b5c80-719a-4c0c-91b1-9b1c172af8d8')\"\n",
              "              title=\"Convert this dataframe to an interactive table.\"\n",
              "              style=\"display:none;\">\n",
              "        \n",
              "  <svg xmlns=\"http://www.w3.org/2000/svg\" height=\"24px\"viewBox=\"0 0 24 24\"\n",
              "       width=\"24px\">\n",
              "    <path d=\"M0 0h24v24H0V0z\" fill=\"none\"/>\n",
              "    <path d=\"M18.56 5.44l.94 2.06.94-2.06 2.06-.94-2.06-.94-.94-2.06-.94 2.06-2.06.94zm-11 1L8.5 8.5l.94-2.06 2.06-.94-2.06-.94L8.5 2.5l-.94 2.06-2.06.94zm10 10l.94 2.06.94-2.06 2.06-.94-2.06-.94-.94-2.06-.94 2.06-2.06.94z\"/><path d=\"M17.41 7.96l-1.37-1.37c-.4-.4-.92-.59-1.43-.59-.52 0-1.04.2-1.43.59L10.3 9.45l-7.72 7.72c-.78.78-.78 2.05 0 2.83L4 21.41c.39.39.9.59 1.41.59.51 0 1.02-.2 1.41-.59l7.78-7.78 2.81-2.81c.8-.78.8-2.07 0-2.86zM5.41 20L4 18.59l7.72-7.72 1.47 1.35L5.41 20z\"/>\n",
              "  </svg>\n",
              "      </button>\n",
              "      \n",
              "  <style>\n",
              "    .colab-df-container {\n",
              "      display:flex;\n",
              "      flex-wrap:wrap;\n",
              "      gap: 12px;\n",
              "    }\n",
              "\n",
              "    .colab-df-convert {\n",
              "      background-color: #E8F0FE;\n",
              "      border: none;\n",
              "      border-radius: 50%;\n",
              "      cursor: pointer;\n",
              "      display: none;\n",
              "      fill: #1967D2;\n",
              "      height: 32px;\n",
              "      padding: 0 0 0 0;\n",
              "      width: 32px;\n",
              "    }\n",
              "\n",
              "    .colab-df-convert:hover {\n",
              "      background-color: #E2EBFA;\n",
              "      box-shadow: 0px 1px 2px rgba(60, 64, 67, 0.3), 0px 1px 3px 1px rgba(60, 64, 67, 0.15);\n",
              "      fill: #174EA6;\n",
              "    }\n",
              "\n",
              "    [theme=dark] .colab-df-convert {\n",
              "      background-color: #3B4455;\n",
              "      fill: #D2E3FC;\n",
              "    }\n",
              "\n",
              "    [theme=dark] .colab-df-convert:hover {\n",
              "      background-color: #434B5C;\n",
              "      box-shadow: 0px 1px 3px 1px rgba(0, 0, 0, 0.15);\n",
              "      filter: drop-shadow(0px 1px 2px rgba(0, 0, 0, 0.3));\n",
              "      fill: #FFFFFF;\n",
              "    }\n",
              "  </style>\n",
              "\n",
              "      <script>\n",
              "        const buttonEl =\n",
              "          document.querySelector('#df-ea3b5c80-719a-4c0c-91b1-9b1c172af8d8 button.colab-df-convert');\n",
              "        buttonEl.style.display =\n",
              "          google.colab.kernel.accessAllowed ? 'block' : 'none';\n",
              "\n",
              "        async function convertToInteractive(key) {\n",
              "          const element = document.querySelector('#df-ea3b5c80-719a-4c0c-91b1-9b1c172af8d8');\n",
              "          const dataTable =\n",
              "            await google.colab.kernel.invokeFunction('convertToInteractive',\n",
              "                                                     [key], {});\n",
              "          if (!dataTable) return;\n",
              "\n",
              "          const docLinkHtml = 'Like what you see? Visit the ' +\n",
              "            '<a target=\"_blank\" href=https://colab.research.google.com/notebooks/data_table.ipynb>data table notebook</a>'\n",
              "            + ' to learn more about interactive tables.';\n",
              "          element.innerHTML = '';\n",
              "          dataTable['output_type'] = 'display_data';\n",
              "          await google.colab.output.renderOutput(dataTable, element);\n",
              "          const docLink = document.createElement('div');\n",
              "          docLink.innerHTML = docLinkHtml;\n",
              "          element.appendChild(docLink);\n",
              "        }\n",
              "      </script>\n",
              "    </div>\n",
              "  </div>\n",
              "  "
            ],
            "text/plain": [
              "       X1     X2     X3      X4   X5  X6    X7  X8     Y1\n",
              "334  0.62  808.5  367.5  220.50  3.5   4  0.25   1  15.08\n",
              "139  0.64  784.0  343.0  220.50  3.5   5  0.10   2  15.19\n",
              "485  0.90  563.5  318.5  122.50  7.0   3  0.25   5  32.31\n",
              "547  0.79  637.0  343.0  147.00  7.0   5  0.40   1  41.67\n",
              "18   0.79  637.0  343.0  147.00  7.0   4  0.00   0  29.63\n",
              "..    ...    ...    ...     ...  ...  ..   ...  ..    ...\n",
              "71   0.76  661.5  416.5  122.50  7.0   5  0.10   1  32.21\n",
              "106  0.86  588.0  294.0  147.00  7.0   4  0.10   2  26.33\n",
              "270  0.71  710.5  269.5  220.50  3.5   4  0.10   5  10.67\n",
              "435  0.98  514.5  294.0  110.25  7.0   5  0.25   4  28.62\n",
              "102  0.90  563.5  318.5  122.50  7.0   4  0.10   2  28.83\n",
              "\n",
              "[537 rows x 9 columns]"
            ]
          },
          "execution_count": 6,
          "metadata": {},
          "output_type": "execute_result"
        }
      ],
      "source": [
        "# Now lets display a few rows from the training data\n",
        "df_train"
      ]
    },
    {
      "cell_type": "code",
      "execution_count": 7,
      "metadata": {
        "colab": {
          "base_uri": "https://localhost:8080/",
          "height": 300
        },
        "id": "TOASwgvHSQpG",
        "outputId": "59474eeb-bcf9-403f-b6a7-62dc9360d2a9"
      },
      "outputs": [
        {
          "data": {
            "text/html": [
              "\n",
              "  <div id=\"df-bfa243f0-98c2-4a32-bdf8-627914307f27\">\n",
              "    <div class=\"colab-df-container\">\n",
              "      <div>\n",
              "<style scoped>\n",
              "    .dataframe tbody tr th:only-of-type {\n",
              "        vertical-align: middle;\n",
              "    }\n",
              "\n",
              "    .dataframe tbody tr th {\n",
              "        vertical-align: top;\n",
              "    }\n",
              "\n",
              "    .dataframe thead th {\n",
              "        text-align: right;\n",
              "    }\n",
              "</style>\n",
              "<table border=\"1\" class=\"dataframe\">\n",
              "  <thead>\n",
              "    <tr style=\"text-align: right;\">\n",
              "      <th></th>\n",
              "      <th>X1</th>\n",
              "      <th>X2</th>\n",
              "      <th>X3</th>\n",
              "      <th>X4</th>\n",
              "      <th>X5</th>\n",
              "      <th>X6</th>\n",
              "      <th>X7</th>\n",
              "      <th>X8</th>\n",
              "      <th>Y1</th>\n",
              "    </tr>\n",
              "  </thead>\n",
              "  <tbody>\n",
              "    <tr>\n",
              "      <th>count</th>\n",
              "      <td>537.000000</td>\n",
              "      <td>537.000000</td>\n",
              "      <td>537.000000</td>\n",
              "      <td>537.000000</td>\n",
              "      <td>537.000000</td>\n",
              "      <td>537.000000</td>\n",
              "      <td>537.000000</td>\n",
              "      <td>537.000000</td>\n",
              "      <td>537.000000</td>\n",
              "    </tr>\n",
              "    <tr>\n",
              "      <th>mean</th>\n",
              "      <td>0.760354</td>\n",
              "      <td>674.867784</td>\n",
              "      <td>318.636872</td>\n",
              "      <td>178.115456</td>\n",
              "      <td>5.201117</td>\n",
              "      <td>3.500931</td>\n",
              "      <td>0.235940</td>\n",
              "      <td>2.854749</td>\n",
              "      <td>22.050503</td>\n",
              "    </tr>\n",
              "    <tr>\n",
              "      <th>std</th>\n",
              "      <td>0.104790</td>\n",
              "      <td>87.758133</td>\n",
              "      <td>43.619254</td>\n",
              "      <td>44.839207</td>\n",
              "      <td>1.750948</td>\n",
              "      <td>1.106502</td>\n",
              "      <td>0.134118</td>\n",
              "      <td>1.544532</td>\n",
              "      <td>10.088187</td>\n",
              "    </tr>\n",
              "    <tr>\n",
              "      <th>min</th>\n",
              "      <td>0.620000</td>\n",
              "      <td>514.500000</td>\n",
              "      <td>245.000000</td>\n",
              "      <td>110.250000</td>\n",
              "      <td>3.500000</td>\n",
              "      <td>2.000000</td>\n",
              "      <td>0.000000</td>\n",
              "      <td>0.000000</td>\n",
              "      <td>6.010000</td>\n",
              "    </tr>\n",
              "    <tr>\n",
              "      <th>25%</th>\n",
              "      <td>0.660000</td>\n",
              "      <td>612.500000</td>\n",
              "      <td>294.000000</td>\n",
              "      <td>147.000000</td>\n",
              "      <td>3.500000</td>\n",
              "      <td>3.000000</td>\n",
              "      <td>0.100000</td>\n",
              "      <td>2.000000</td>\n",
              "      <td>12.960000</td>\n",
              "    </tr>\n",
              "    <tr>\n",
              "      <th>50%</th>\n",
              "      <td>0.740000</td>\n",
              "      <td>686.000000</td>\n",
              "      <td>318.500000</td>\n",
              "      <td>220.500000</td>\n",
              "      <td>3.500000</td>\n",
              "      <td>3.000000</td>\n",
              "      <td>0.250000</td>\n",
              "      <td>3.000000</td>\n",
              "      <td>17.230000</td>\n",
              "    </tr>\n",
              "    <tr>\n",
              "      <th>75%</th>\n",
              "      <td>0.820000</td>\n",
              "      <td>759.500000</td>\n",
              "      <td>343.000000</td>\n",
              "      <td>220.500000</td>\n",
              "      <td>7.000000</td>\n",
              "      <td>4.000000</td>\n",
              "      <td>0.400000</td>\n",
              "      <td>4.000000</td>\n",
              "      <td>31.280000</td>\n",
              "    </tr>\n",
              "    <tr>\n",
              "      <th>max</th>\n",
              "      <td>0.980000</td>\n",
              "      <td>808.500000</td>\n",
              "      <td>416.500000</td>\n",
              "      <td>220.500000</td>\n",
              "      <td>7.000000</td>\n",
              "      <td>5.000000</td>\n",
              "      <td>0.400000</td>\n",
              "      <td>5.000000</td>\n",
              "      <td>43.100000</td>\n",
              "    </tr>\n",
              "  </tbody>\n",
              "</table>\n",
              "</div>\n",
              "      <button class=\"colab-df-convert\" onclick=\"convertToInteractive('df-bfa243f0-98c2-4a32-bdf8-627914307f27')\"\n",
              "              title=\"Convert this dataframe to an interactive table.\"\n",
              "              style=\"display:none;\">\n",
              "        \n",
              "  <svg xmlns=\"http://www.w3.org/2000/svg\" height=\"24px\"viewBox=\"0 0 24 24\"\n",
              "       width=\"24px\">\n",
              "    <path d=\"M0 0h24v24H0V0z\" fill=\"none\"/>\n",
              "    <path d=\"M18.56 5.44l.94 2.06.94-2.06 2.06-.94-2.06-.94-.94-2.06-.94 2.06-2.06.94zm-11 1L8.5 8.5l.94-2.06 2.06-.94-2.06-.94L8.5 2.5l-.94 2.06-2.06.94zm10 10l.94 2.06.94-2.06 2.06-.94-2.06-.94-.94-2.06-.94 2.06-2.06.94z\"/><path d=\"M17.41 7.96l-1.37-1.37c-.4-.4-.92-.59-1.43-.59-.52 0-1.04.2-1.43.59L10.3 9.45l-7.72 7.72c-.78.78-.78 2.05 0 2.83L4 21.41c.39.39.9.59 1.41.59.51 0 1.02-.2 1.41-.59l7.78-7.78 2.81-2.81c.8-.78.8-2.07 0-2.86zM5.41 20L4 18.59l7.72-7.72 1.47 1.35L5.41 20z\"/>\n",
              "  </svg>\n",
              "      </button>\n",
              "      \n",
              "  <style>\n",
              "    .colab-df-container {\n",
              "      display:flex;\n",
              "      flex-wrap:wrap;\n",
              "      gap: 12px;\n",
              "    }\n",
              "\n",
              "    .colab-df-convert {\n",
              "      background-color: #E8F0FE;\n",
              "      border: none;\n",
              "      border-radius: 50%;\n",
              "      cursor: pointer;\n",
              "      display: none;\n",
              "      fill: #1967D2;\n",
              "      height: 32px;\n",
              "      padding: 0 0 0 0;\n",
              "      width: 32px;\n",
              "    }\n",
              "\n",
              "    .colab-df-convert:hover {\n",
              "      background-color: #E2EBFA;\n",
              "      box-shadow: 0px 1px 2px rgba(60, 64, 67, 0.3), 0px 1px 3px 1px rgba(60, 64, 67, 0.15);\n",
              "      fill: #174EA6;\n",
              "    }\n",
              "\n",
              "    [theme=dark] .colab-df-convert {\n",
              "      background-color: #3B4455;\n",
              "      fill: #D2E3FC;\n",
              "    }\n",
              "\n",
              "    [theme=dark] .colab-df-convert:hover {\n",
              "      background-color: #434B5C;\n",
              "      box-shadow: 0px 1px 3px 1px rgba(0, 0, 0, 0.15);\n",
              "      filter: drop-shadow(0px 1px 2px rgba(0, 0, 0, 0.3));\n",
              "      fill: #FFFFFF;\n",
              "    }\n",
              "  </style>\n",
              "\n",
              "      <script>\n",
              "        const buttonEl =\n",
              "          document.querySelector('#df-bfa243f0-98c2-4a32-bdf8-627914307f27 button.colab-df-convert');\n",
              "        buttonEl.style.display =\n",
              "          google.colab.kernel.accessAllowed ? 'block' : 'none';\n",
              "\n",
              "        async function convertToInteractive(key) {\n",
              "          const element = document.querySelector('#df-bfa243f0-98c2-4a32-bdf8-627914307f27');\n",
              "          const dataTable =\n",
              "            await google.colab.kernel.invokeFunction('convertToInteractive',\n",
              "                                                     [key], {});\n",
              "          if (!dataTable) return;\n",
              "\n",
              "          const docLinkHtml = 'Like what you see? Visit the ' +\n",
              "            '<a target=\"_blank\" href=https://colab.research.google.com/notebooks/data_table.ipynb>data table notebook</a>'\n",
              "            + ' to learn more about interactive tables.';\n",
              "          element.innerHTML = '';\n",
              "          dataTable['output_type'] = 'display_data';\n",
              "          await google.colab.output.renderOutput(dataTable, element);\n",
              "          const docLink = document.createElement('div');\n",
              "          docLink.innerHTML = docLinkHtml;\n",
              "          element.appendChild(docLink);\n",
              "        }\n",
              "      </script>\n",
              "    </div>\n",
              "  </div>\n",
              "  "
            ],
            "text/plain": [
              "               X1          X2          X3          X4          X5          X6  \\\n",
              "count  537.000000  537.000000  537.000000  537.000000  537.000000  537.000000   \n",
              "mean     0.760354  674.867784  318.636872  178.115456    5.201117    3.500931   \n",
              "std      0.104790   87.758133   43.619254   44.839207    1.750948    1.106502   \n",
              "min      0.620000  514.500000  245.000000  110.250000    3.500000    2.000000   \n",
              "25%      0.660000  612.500000  294.000000  147.000000    3.500000    3.000000   \n",
              "50%      0.740000  686.000000  318.500000  220.500000    3.500000    3.000000   \n",
              "75%      0.820000  759.500000  343.000000  220.500000    7.000000    4.000000   \n",
              "max      0.980000  808.500000  416.500000  220.500000    7.000000    5.000000   \n",
              "\n",
              "               X7          X8          Y1  \n",
              "count  537.000000  537.000000  537.000000  \n",
              "mean     0.235940    2.854749   22.050503  \n",
              "std      0.134118    1.544532   10.088187  \n",
              "min      0.000000    0.000000    6.010000  \n",
              "25%      0.100000    2.000000   12.960000  \n",
              "50%      0.250000    3.000000   17.230000  \n",
              "75%      0.400000    4.000000   31.280000  \n",
              "max      0.400000    5.000000   43.100000  "
            ]
          },
          "execution_count": 7,
          "metadata": {},
          "output_type": "execute_result"
        }
      ],
      "source": [
        "# Then lets view some statistics\n",
        "df_train.describe()"
      ]
    },
    {
      "cell_type": "code",
      "execution_count": 9,
      "metadata": {
        "id": "FDe2-J9wSQpG"
      },
      "outputs": [],
      "source": [
        "# Now we will extract the models input and targets from both the training and testing dataframes\n",
        "def extract_Xy(df):\n",
        "    df_numpy = df.to_numpy()\n",
        "    return df_numpy[:, :-1], df_numpy[:, -1]\n",
        "\n",
        "X_train, y_train = extract_Xy(df_train)\n",
        "X_test, y_test = extract_Xy(df_test)"
      ]
    },
    {
      "cell_type": "markdown",
      "metadata": {
        "id": "d3E4-KbuSQpG"
      },
      "source": [
        "## Linear Regression via Scikit-Learn"
      ]
    },
    {
      "cell_type": "code",
      "execution_count": 10,
      "metadata": {
        "id": "QIArz4T6SQpH"
      },
      "outputs": [],
      "source": [
        "# Then we test the linear regression using Scikit-learn's implementation\n",
        "from sklearn.linear_model import LinearRegression\n",
        "\n",
        "model = LinearRegression().fit(X_train, y_train)"
      ]
    },
    {
      "cell_type": "code",
      "execution_count": 11,
      "metadata": {
        "colab": {
          "base_uri": "https://localhost:8080/"
        },
        "id": "WqCkm7DMSQpH",
        "outputId": "b62ffb81-a1ed-4ed3-ea4e-ceceac015eeb"
      },
      "outputs": [
        {
          "name": "stdout",
          "output_type": "stream",
          "text": [
            "Training Error: 8.365512762457463 (RMS: 2.892319616234946)\n",
            "Testing Error: 8.739806690405636 (RMS: 2.9563164056652727)\n"
          ]
        }
      ],
      "source": [
        "# Using scikit-learn's MSE function, we can compute the training and testing error for our model\n",
        "from sklearn.metrics import mean_squared_error\n",
        "\n",
        "y_train_predict = model.predict(X_train)\n",
        "training_error = mean_squared_error(y_train, y_train_predict)\n",
        "print(f\"Training Error: {training_error} (RMS: {training_error**0.5})\")\n",
        "y_test_predict = model.predict(X_test)\n",
        "testing_error = mean_squared_error(y_test, y_test_predict)\n",
        "print(f\"Testing Error: {testing_error} (RMS: {testing_error**0.5})\")\n",
        "\n",
        "#Note: We also display the Root Mean Square error (RMS) since it is more intuitive to compare with the dataset statistics (diplayed using df_train.describe())\n"
      ]
    },
    {
      "cell_type": "code",
      "execution_count": 12,
      "metadata": {
        "colab": {
          "base_uri": "https://localhost:8080/"
        },
        "id": "lQj0qVL9SQpI",
        "outputId": "c7c621f0-5741-4735-984c-4ff97c2e6913"
      },
      "outputs": [
        {
          "name": "stdout",
          "output_type": "stream",
          "text": [
            "808 µs ± 111 µs per loop (mean ± std. dev. of 7 runs, 1000 loops each)\n"
          ]
        }
      ],
      "source": [
        "%%timeit\n",
        "LinearRegression().fit(X_train, y_train)\n",
        "# Here we are measuring the training time to compare with our implementation below"
      ]
    },
    {
      "cell_type": "markdown",
      "metadata": {
        "id": "IrKL7GTVSQpI"
      },
      "source": [
        "## Linear Regression from Scratch"
      ]
    },
    {
      "cell_type": "code",
      "execution_count": 13,
      "metadata": {
        "id": "vu1BwPhLSQpJ"
      },
      "outputs": [],
      "source": [
        "def our_mean_square_error(true, predicted):\n",
        "    #TODO: implement this function to match Scikit-learn's mean_square_error\n",
        "    #Note: both true & predicted will be float numpy arrays\n",
        "    # pass\n",
        "    return np.mean((true - predicted)**2)"
      ]
    },
    {
      "cell_type": "code",
      "execution_count": 14,
      "metadata": {
        "colab": {
          "base_uri": "https://localhost:8080/"
        },
        "id": "wtUmUXGaSQpJ",
        "outputId": "bf73f04a-2021-4faf-d9ad-593e5acbba98"
      },
      "outputs": [
        {
          "name": "stdout",
          "output_type": "stream",
          "text": [
            "our_mean_square_error( np.array([  1, 0]), np.array([1,   0]) ) = 0.0\n",
            "our_mean_square_error( np.array([  0, 1]), np.array([1,   0]) ) = 1.0\n",
            "our_mean_square_error( np.array([0.5, 0]), np.array([1, 0.5]) ) = 0.25\n"
          ]
        }
      ],
      "source": [
        "print(f\"{our_mean_square_error( np.array([  1, 0]), np.array([1,   0]) ) = }\") # Should be 0\n",
        "print(f\"{our_mean_square_error( np.array([  0, 1]), np.array([1,   0]) ) = }\") # Should be 1\n",
        "print(f\"{our_mean_square_error( np.array([0.5, 0]), np.array([1, 0.5]) ) = }\") # Should be 0.25"
      ]
    },
    {
      "cell_type": "code",
      "execution_count": 15,
      "metadata": {
        "id": "Mp6xrQhtSQpJ"
      },
      "outputs": [],
      "source": [
        "class OurLinearRegression:\n",
        "    def _prepare_inputs(self, X):\n",
        "        # Here, we add a new input with value 1 to each example. It will be multipled by the bias\n",
        "        ones = np.ones((X.shape[0], 1), dtype=X.dtype)\n",
        "        return np.concatenate((ones, X), axis=1)\n",
        "\n",
        "    def fit(self, X, y):\n",
        "        X = self._prepare_inputs(X) # First, we prepare the inputs\n",
        "        #TODO: compute and store the model weights into self.w\n",
        "        # Note: you can use numpy function and do not use \"numpy.linalg.lstsq\" or \"numpy.linalg.pinv\"\n",
        "        # To compute a square matrix's inverse, you can use \"numpy.linalg.inv\".\n",
        "        # A more stable option to compute \"numpy.linalg.inv(A) @ b\" is using \"numpy.linalg.solve(A, b)\" \n",
        "        self.w = np.linalg.solve(X.T @ X, X.T @ y)\n",
        "\n",
        "        # Return self to match the behavior of Scikit-Learn's LinearRegression fit()\n",
        "        return self\n",
        "    \n",
        "    def predict(self, X):\n",
        "        X = self._prepare_inputs(X) # First, we prepare the inputs\n",
        "        #TODO: Compute and return the predictions given X\n",
        "        return X @ self.w"
      ]
    },
    {
      "cell_type": "code",
      "execution_count": 16,
      "metadata": {
        "id": "0Dmz8ay_SQpK"
      },
      "outputs": [],
      "source": [
        "# Now, you can train your model\n",
        "our_model = OurLinearRegression().fit(X_train, y_train)"
      ]
    },
    {
      "cell_type": "code",
      "execution_count": 17,
      "metadata": {
        "colab": {
          "base_uri": "https://localhost:8080/"
        },
        "id": "v3g9HtVYSQpK",
        "outputId": "ceb02ced-1474-417a-be9a-5b2719ae9bc1"
      },
      "outputs": [
        {
          "name": "stdout",
          "output_type": "stream",
          "text": [
            "Training Error: 8.807516586053168 (RMS: 2.967746044737179)\n",
            "Testing Error: 9.29202465401173 (RMS: 3.048282246448273)\n"
          ]
        }
      ],
      "source": [
        "# Using your MSE function, you can compute the training and testing error for our model\n",
        "y_train_predict = our_model.predict(X_train)\n",
        "training_error = our_mean_square_error(y_train, y_train_predict)\n",
        "print(f\"Training Error: {training_error} (RMS: {training_error**0.5})\")\n",
        "y_test_predict = our_model.predict(X_test)\n",
        "testing_error = our_mean_square_error(y_test, y_test_predict)\n",
        "print(f\"Testing Error: {testing_error} (RMS: {testing_error**0.5})\")"
      ]
    },
    {
      "cell_type": "code",
      "execution_count": 18,
      "metadata": {
        "colab": {
          "base_uri": "https://localhost:8080/"
        },
        "id": "_xTJbQXgSQpK",
        "outputId": "cd06c57e-24ea-4160-c447-f389ac526a44"
      },
      "outputs": [
        {
          "name": "stdout",
          "output_type": "stream",
          "text": [
            "26.1 µs ± 1.11 µs per loop (mean ± std. dev. of 7 runs, 10000 loops each)\n"
          ]
        }
      ],
      "source": [
        "%%timeit\n",
        "OurLinearRegression().fit(X_train, y_train)\n",
        "# Now, you can compare the time of our implementation with Scikit-Learn's. What is your conclusion?\n",
        "\n",
        "# When comparing the weights of the two models, you will notice that they are not exactly the same. \n",
        "# This is due to the fact that Scikit-Learn's implementation uses a more stable method to compute the weights.\n",
        "# However, the predictions of both models is very close to each other. \n",
        "# This is because the weights are very close to each other.\n",
        "# print(f\"Scikit-Learn's weights: {model.coef_}\")\n",
        "# print(f\"Our weights: {our_model.w}\")"
      ]
    },
    {
      "cell_type": "code",
      "execution_count": null,
      "metadata": {
        "id": "rXPvUhXzSQpK"
      },
      "outputs": [],
      "source": [
        "#TODO: Write your conclusion about your implementation's performance and training time\n",
        "\n",
        "# Conclusion: Our implementation is faster than Scikit-Learn's implementation. However, the difference is not significant.\n",
        "# This is because the dataset is small and the training time is dominated by the matrix multiplication.\n",
        "# If the dataset is large, the difference in training time will be significant.\n",
        "# Performance-wise, our implementation is very close to Scikit-Learn's implementation."
      ]
    }
  ],
  "metadata": {
    "colab": {
      "provenance": []
    },
    "interpreter": {
      "hash": "dd780a10ad03a506e232ec29f104692e8d999a77309c0fc915217df500c72051"
    },
    "kernelspec": {
      "display_name": "Python 3",
      "language": "python",
      "name": "python3"
    },
    "language_info": {
      "codemirror_mode": {
        "name": "ipython",
        "version": 3
      },
      "file_extension": ".py",
      "mimetype": "text/x-python",
      "name": "python",
      "nbconvert_exporter": "python",
      "pygments_lexer": "ipython3",
      "version": "3.10.3"
    }
  },
  "nbformat": 4,
  "nbformat_minor": 0
}
